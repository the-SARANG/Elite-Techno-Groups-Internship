{
  "nbformat": 4,
  "nbformat_minor": 0,
  "metadata": {
    "colab": {
      "name": "Inventory_managment1.ipynb",
      "provenance": [],
      "collapsed_sections": []
    },
    "kernelspec": {
      "name": "python3",
      "display_name": "Python 3"
    },
    "language_info": {
      "name": "python"
    }
  },
  "cells": [
    {
      "cell_type": "code",
      "metadata": {
        "id": "-kBCXh4GpuBM"
      },
      "source": [
        "dictionary = {}"
      ],
      "execution_count": 100,
      "outputs": []
    },
    {
      "cell_type": "code",
      "metadata": {
        "id": "VA_FRICxSkl3"
      },
      "source": [
        "import json\n",
        "js = json.dumps(dictionary,indent=4)"
      ],
      "execution_count": 187,
      "outputs": []
    },
    {
      "cell_type": "code",
      "metadata": {
        "id": "C3SiJ6rnYKTb"
      },
      "source": [
        "fd = open('record.json','w')\n",
        "fd.write(js)\n",
        "fd.close()"
      ],
      "execution_count": 188,
      "outputs": []
    },
    {
      "cell_type": "code",
      "metadata": {
        "id": "82PiIV9hUjKw"
      },
      "source": [
        "fd = open(\"record.json\",'r')\n",
        "r = fd.read()\n",
        "fd.close()\n",
        "\n",
        "records = json.loads(r)"
      ],
      "execution_count": 189,
      "outputs": []
    },
    {
      "cell_type": "code",
      "metadata": {
        "id": "qShRTjNmBQmL"
      },
      "source": [
        ""
      ],
      "execution_count": null,
      "outputs": []
    },
    {
      "cell_type": "markdown",
      "metadata": {
        "id": "LRGkIta7RJ6T"
      },
      "source": [
        "**To Add New Item in the Inventory**"
      ]
    },
    {
      "cell_type": "code",
      "metadata": {
        "colab": {
          "base_uri": "https://localhost:8080/"
        },
        "id": "HT566obNzfEB",
        "outputId": "a3cd6393-c52c-426d-bd8d-74eb3948a40d"
      },
      "source": [
        "import datetime\n",
        "dt= str(datetime.datetime.now())\n",
        "prod_id = str(input(\"Enter product id:\"))\n",
        "name = str(input(\"Enter name:\"))\n",
        "pr = int(input(\"Enter price:\"))\n",
        "qn = int(input(\"Enter quantity:\"))\n",
        "records[prod_id] = {'name': name , 'pr': pr, 'qn': qn,'datetime': dt}\n",
        "js = json.dumps(records,indent=4)\n",
        "fd = open(\"record.json\",'w')\n",
        "fd.write(js)\n",
        "1\n",
        "fd.close()\n"
      ],
      "execution_count": 222,
      "outputs": [
        {
          "name": "stdout",
          "output_type": "stream",
          "text": [
            "Enter product id:130\n",
            "Enter name:Honey\n",
            "Enter price:90\n",
            "Enter quantity:50\n"
          ]
        }
      ]
    },
    {
      "cell_type": "markdown",
      "metadata": {
        "id": "MycaMkrTcxAy"
      },
      "source": [
        "**Purchase**"
      ]
    },
    {
      "cell_type": "code",
      "metadata": {
        "colab": {
          "base_uri": "https://localhost:8080/"
        },
        "id": "CnJk7RMOc1Wg",
        "outputId": "f2cb01b0-49e7-4671-8a75-0e72d741d310"
      },
      "source": [
        "print(\"##############################\\n\",)\n",
        "product_id = str(input(\"Enter Product ID:\"))\n",
        "quantity = int(input(\"Enter Quantity:\"))\n",
        "if quantity<= records[prod_id]['qn']:\n",
        "  print(\"Product: \", records[product_id]['name'])\n",
        "  print(\"Price: \", records[product_id]['pr'])\n",
        "  print(\"Billing Amount: \", records[product_id]['pr'] * quantity)\n",
        "  records[product_id]['qn'] = records[product_id]['qn'] - quantity\n",
        "  print(\"###############################\\n Transaction Completed!!!\\n\")\n",
        "else:\n",
        "  print(\"NO STOCK\")"
      ],
      "execution_count": 247,
      "outputs": [
        {
          "output_type": "stream",
          "name": "stdout",
          "text": [
            "##############################\n",
            "\n",
            "Enter Product ID:104\n",
            "Enter Quantity:200\n",
            "NO STOCK\n"
          ]
        }
      ]
    },
    {
      "cell_type": "markdown",
      "metadata": {
        "id": "x-GAS5_EfTGN"
      },
      "source": [
        "**Update Inventory**"
      ]
    },
    {
      "cell_type": "code",
      "metadata": {
        "id": "sFjbzDcCelmM"
      },
      "source": [
        "js = json.dumps(records,indent=4)\n",
        "fd = open('record.json','w')\n",
        "fd.write(js)\n",
        "fd.close()\n"
      ],
      "execution_count": 248,
      "outputs": []
    },
    {
      "cell_type": "markdown",
      "metadata": {
        "id": "qvp5_-ECgXdV"
      },
      "source": [
        "**Sales**"
      ]
    },
    {
      "cell_type": "code",
      "metadata": {
        "id": "n6xxJ3SIs6Op"
      },
      "source": [
        "sales = {}"
      ],
      "execution_count": 225,
      "outputs": []
    },
    {
      "cell_type": "code",
      "metadata": {
        "id": "PSzW2Xej5fWZ"
      },
      "source": [
        "if quantity<= records[prod_id]['qn']:\n",
        "  sales[(len(sales)+1)] = {'product':product_id,'quantity':quantity,'amount':records[product_id]['pr'] * quantity,'datetime': dt}"
      ],
      "execution_count": 253,
      "outputs": []
    },
    {
      "cell_type": "code",
      "metadata": {
        "id": "joPQLIbytam9"
      },
      "source": [
        "jso = json.dumps(sales,indent=4)\n",
        "fd = open('sales.json','w')\n",
        "fd.write(jso)\n",
        "fd.close()"
      ],
      "execution_count": 250,
      "outputs": []
    },
    {
      "cell_type": "code",
      "metadata": {
        "colab": {
          "base_uri": "https://localhost:8080/"
        },
        "id": "UxlayXaUFBcX",
        "outputId": "7cd74017-17a7-43a3-bf29-269ff84d6efb"
      },
      "source": [
        "sales"
      ],
      "execution_count": 251,
      "outputs": [
        {
          "output_type": "execute_result",
          "data": {
            "text/plain": [
              "{1: {'amount': 1000,\n",
              "  'datetime': '2021-09-06 08:04:44.456800',\n",
              "  'product': '121',\n",
              "  'quantity': 4},\n",
              " 2: {'amount': 3600,\n",
              "  'datetime': '2021-09-06 08:04:44.456800',\n",
              "  'product': '130',\n",
              "  'quantity': 40},\n",
              " 3: {'amount': 8000,\n",
              "  'datetime': '2021-09-06 08:04:44.456800',\n",
              "  'product': '104',\n",
              "  'quantity': 200},\n",
              " 4: {'amount': 150,\n",
              "  'datetime': '2021-09-06 08:04:44.456800',\n",
              "  'product': '109',\n",
              "  'quantity': 5},\n",
              " 5: {'amount': 150,\n",
              "  'datetime': '2021-09-06 08:04:44.456800',\n",
              "  'product': '109',\n",
              "  'quantity': 5}}"
            ]
          },
          "metadata": {},
          "execution_count": 251
        }
      ]
    }
  ]
}